{
 "cells": [
  {
   "cell_type": "code",
   "execution_count": 1,
   "metadata": {},
   "outputs": [],
   "source": [
    "# We will use the gluon trainer to update model parameters during netwrok training.\n",
    "# Importing the necessaery packages from MXNet\n",
    "from mxnet import nd, autograd, optimizer, gluon"
   ]
  },
  {
   "cell_type": "code",
   "execution_count": 2,
   "metadata": {},
   "outputs": [],
   "source": [
    "# Create and initialize a simple model\n",
    "net = gluon.nn.Dense(1)\n",
    "net.initialize()"
   ]
  },
  {
   "cell_type": "code",
   "execution_count": 4,
   "metadata": {},
   "outputs": [],
   "source": [
    "# Running the forward and backward passes.\n",
    "# Dataset has 8 sample with 4 features\n",
    "batch_size = 8\n",
    "X = nd.random.uniform(shape=(batch_size, 4))\n",
    "y = nd.random.uniform(shape=(batch_size,))\n",
    "\n",
    "loss = gluon.loss.L2Loss()\n",
    "\n",
    "# Function to compute the first two steps 'forward, backward'\n",
    "def forward_backward():\n",
    "    with autograd.record():\n",
    "        l = loss(net(X), y)\n",
    "    l.backward()\n",
    "forward_backward()"
   ]
  },
  {
   "cell_type": "code",
   "execution_count": 6,
   "metadata": {},
   "outputs": [],
   "source": [
    "# Creating the trainer instance using model parameter and simple optimizer stochastic \n",
    "# gradient descent, learning rate = 1\n",
    "trainer = gluon.Trainer(net.collect_params(), \n",
    "                       optimizer='sgd', optimizer_params={'learning_rate':1})"
   ]
  },
  {
   "cell_type": "code",
   "execution_count": 7,
   "metadata": {},
   "outputs": [
    {
     "name": "stdout",
     "output_type": "stream",
     "text": [
      "\n",
      "[[-0.0196689   0.01582889 -0.00881553  0.0563288 ]]\n",
      "<NDArray 1x4 @cpu(0)>\n"
     ]
    }
   ],
   "source": [
    "# checking the current network parameters\n",
    "curr_weight = net.weight.data().copy()\n",
    "print(curr_weight)"
   ]
  },
  {
   "cell_type": "code",
   "execution_count": 8,
   "metadata": {},
   "outputs": [
    {
     "name": "stdout",
     "output_type": "stream",
     "text": [
      "\n",
      "[[0.20732312 0.20758682 0.370947   0.36136353]]\n",
      "<NDArray 1x4 @cpu(0)>\n"
     ]
    }
   ],
   "source": [
    "# Trainer step\n",
    "trainer.step(batch_size)\n",
    "print(net.weight.data())"
   ]
  },
  {
   "cell_type": "code",
   "execution_count": 9,
   "metadata": {},
   "outputs": [
    {
     "name": "stdout",
     "output_type": "stream",
     "text": [
      "\n",
      "[[0.20732312 0.20758682 0.370947   0.36136353]]\n",
      "<NDArray 1x4 @cpu(0)>\n"
     ]
    }
   ],
   "source": [
    "# Result of SGD update\n",
    "# We can notice that the values are identical to the result of trainer.step() earlier..\n",
    "print(curr_weight - net.weight.grad() * 1/batch_size)"
   ]
  },
  {
   "cell_type": "code",
   "execution_count": 10,
   "metadata": {},
   "outputs": [],
   "source": [
    "# Using Optimizer Instance \n",
    "# AdamOptimizer is the popular adaptive optimzer for deep learning \n",
    "optim = optimizer.Adam(learning_rate = 1)\n",
    "trainer = gluon.Trainer(net.collect_params(), optim)"
   ]
  },
  {
   "cell_type": "code",
   "execution_count": 11,
   "metadata": {},
   "outputs": [
    {
     "data": {
      "text/plain": [
       "\n",
       "[[-0.7926821  -0.79241866 -0.62905896 -0.6386421 ]]\n",
       "<NDArray 1x4 @cpu(0)>"
      ]
     },
     "execution_count": 11,
     "metadata": {},
     "output_type": "execute_result"
    }
   ],
   "source": [
    "forward_backward()\n",
    "trainer.step(batch_size)\n",
    "net.weight.data()"
   ]
  },
  {
   "cell_type": "code",
   "execution_count": 12,
   "metadata": {},
   "outputs": [
    {
     "data": {
      "text/plain": [
       "1"
      ]
     },
     "execution_count": 12,
     "metadata": {},
     "output_type": "execute_result"
    }
   ],
   "source": [
    "# Changing the Learning Rate\n",
    "trainer.learning_rate"
   ]
  },
  {
   "cell_type": "code",
   "execution_count": 13,
   "metadata": {},
   "outputs": [
    {
     "data": {
      "text/plain": [
       "0.1"
      ]
     },
     "execution_count": 13,
     "metadata": {},
     "output_type": "execute_result"
    }
   ],
   "source": [
    "trainer.set_learning_rate(0.1)\n",
    "trainer.learning_rate"
   ]
  },
  {
   "cell_type": "code",
   "execution_count": null,
   "metadata": {},
   "outputs": [],
   "source": []
  }
 ],
 "metadata": {
  "kernelspec": {
   "display_name": "Python 3",
   "language": "python",
   "name": "python3"
  },
  "language_info": {
   "codemirror_mode": {
    "name": "ipython",
    "version": 3
   },
   "file_extension": ".py",
   "mimetype": "text/x-python",
   "name": "python",
   "nbconvert_exporter": "python",
   "pygments_lexer": "ipython3",
   "version": "3.8.3"
  }
 },
 "nbformat": 4,
 "nbformat_minor": 4
}
